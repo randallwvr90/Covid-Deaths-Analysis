{
 "cells": [
  {
   "cell_type": "code",
   "execution_count": 1,
   "metadata": {},
   "outputs": [],
   "source": [
    "# Import Dependencies\n",
    "import numpy as np\n",
    "import matplotlib.pyplot as plt\n",
    "import pandas as pd"
   ]
  },
  {
   "cell_type": "code",
   "execution_count": 6,
   "metadata": {},
   "outputs": [
    {
     "data": {
      "text/plain": [
       "Index(['county', 'administered_date', 'total_doses', 'cumulative_total_doses',\n",
       "       'pfizer_doses', 'cumulative_pfizer_doses', 'moderna_doses',\n",
       "       'cumulative_moderna_doses', 'jj_doses', 'cumulative_jj_doses',\n",
       "       'partially_vaccinated', 'total_partially_vaccinated',\n",
       "       'fully_vaccinated', 'cumulative_fully_vaccinated', 'at_least_one_dose',\n",
       "       'cumulative_at_least_one_dose', 'california_flag'],\n",
       "      dtype='object')"
      ]
     },
     "execution_count": 6,
     "metadata": {},
     "output_type": "execute_result"
    }
   ],
   "source": [
    "county_df = pd.read_csv(\"resources/covid19vaccinesbycounty.csv\")\n",
    "county_df.columns\n"
   ]
  },
  {
   "cell_type": "code",
   "execution_count": null,
   "metadata": {},
   "outputs": [],
   "source": []
  }
 ],
 "metadata": {
  "kernelspec": {
   "display_name": "Python 3",
   "language": "python",
   "name": "python3"
  },
  "language_info": {
   "codemirror_mode": {
    "name": "ipython",
    "version": 3
   },
   "file_extension": ".py",
   "mimetype": "text/x-python",
   "name": "python",
   "nbconvert_exporter": "python",
   "pygments_lexer": "ipython3",
   "version": "3.8.3"
  }
 },
 "nbformat": 4,
 "nbformat_minor": 4
}
